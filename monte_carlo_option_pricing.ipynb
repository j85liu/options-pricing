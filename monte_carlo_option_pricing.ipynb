{
 "cells": [
  {
   "cell_type": "code",
   "execution_count": 1,
   "id": "1930bd70",
   "metadata": {},
   "outputs": [
    {
     "ename": "ModuleNotFoundError",
     "evalue": "No module named 'models.black_scholes'",
     "output_type": "error",
     "traceback": [
      "\u001b[0;31m---------------------------------------------------------------------------\u001b[0m",
      "\u001b[0;31mModuleNotFoundError\u001b[0m                       Traceback (most recent call last)",
      "Cell \u001b[0;32mIn[1], line 8\u001b[0m\n\u001b[1;32m      6\u001b[0m \u001b[38;5;28;01mimport\u001b[39;00m\u001b[38;5;250m \u001b[39m\u001b[38;5;21;01mnumpy\u001b[39;00m\u001b[38;5;250m \u001b[39m\u001b[38;5;28;01mas\u001b[39;00m\u001b[38;5;250m \u001b[39m\u001b[38;5;21;01mnp\u001b[39;00m\n\u001b[1;32m      7\u001b[0m \u001b[38;5;28;01mimport\u001b[39;00m\u001b[38;5;250m \u001b[39m\u001b[38;5;21;01mmatplotlib\u001b[39;00m\u001b[38;5;21;01m.\u001b[39;00m\u001b[38;5;21;01mpyplot\u001b[39;00m\u001b[38;5;250m \u001b[39m\u001b[38;5;28;01mas\u001b[39;00m\u001b[38;5;250m \u001b[39m\u001b[38;5;21;01mplt\u001b[39;00m\n\u001b[0;32m----> 8\u001b[0m \u001b[38;5;28;01mfrom\u001b[39;00m\u001b[38;5;250m \u001b[39m\u001b[38;5;21;01mmodels\u001b[39;00m\u001b[38;5;21;01m.\u001b[39;00m\u001b[38;5;21;01mblack_scholes\u001b[39;00m\u001b[38;5;250m \u001b[39m\u001b[38;5;28;01mimport\u001b[39;00m black_scholes_price\n\u001b[1;32m      9\u001b[0m \u001b[38;5;28;01mfrom\u001b[39;00m\u001b[38;5;250m \u001b[39m\u001b[38;5;21;01mmodels\u001b[39;00m\u001b[38;5;21;01m.\u001b[39;00m\u001b[38;5;21;01mmonte_carlo\u001b[39;00m\u001b[38;5;250m \u001b[39m\u001b[38;5;28;01mimport\u001b[39;00m generate_gbm_paths, generate_heston_paths\n\u001b[1;32m     10\u001b[0m \u001b[38;5;28;01mfrom\u001b[39;00m\u001b[38;5;250m \u001b[39m\u001b[38;5;21;01mmodels\u001b[39;00m\u001b[38;5;21;01m.\u001b[39;00m\u001b[38;5;21;01mpayoff\u001b[39;00m\u001b[38;5;250m \u001b[39m\u001b[38;5;28;01mimport\u001b[39;00m european_call_payoff\n",
      "\u001b[0;31mModuleNotFoundError\u001b[0m: No module named 'models.black_scholes'"
     ]
    }
   ],
   "source": [
    "# Option Pricing via Monte Carlo Simulation\n",
    "# Author: James Liu\n",
    "# Goal: Understand institutional option pricing from end to end, with comments on industry practices\n",
    "\n",
    "# --- Setup ---\n",
    "import numpy as np\n",
    "import matplotlib.pyplot as plt\n",
    "from models.black_scholes import black_scholes_price\n",
    "from models.monte_carlo import generate_gbm_paths, generate_heston_paths\n",
    "from models.payoff import european_call_payoff\n",
    "\n",
    "# --- Parameters ---\n",
    "S0 = 100        # initial stock price\n",
    "K = 100         # strike price\n",
    "T = 1.0         # time to maturity (in years)\n",
    "r = 0.05        # risk-free rate\n",
    "sigma = 0.2     # volatility\n",
    "n_paths = 10000\n",
    "n_steps = 252\n",
    "\n",
    "# --- Generate GBM Paths ---\n",
    "gbm_paths = generate_gbm_paths(S0, r, sigma, T, n_steps, n_paths)\n",
    "\n",
    "# --- Plot Sample Paths ---\n",
    "plt.figure(figsize=(10, 4))\n",
    "plt.plot(gbm_paths[:, :10])\n",
    "plt.title(\"Sample GBM Paths\")\n",
    "plt.xlabel(\"Time Step\")\n",
    "plt.ylabel(\"Price\")\n",
    "plt.show()\n",
    "\n",
    "# --- Calculate Monte Carlo Price ---\n",
    "terminal_prices = gbm_paths[-1]\n",
    "payoffs = european_call_payoff(terminal_prices, K)\n",
    "mc_price = np.exp(-r * T) * np.mean(payoffs)\n",
    "print(f\"Monte Carlo European Call Price (GBM): {mc_price:.4f}\")\n",
    "\n",
    "# --- Compare with Black-Scholes ---\n",
    "bs_price = black_scholes_price(S0, K, T, r, sigma, option_type=\"call\")\n",
    "print(f\"Black-Scholes Price: {bs_price:.4f}\")\n",
    "\n",
    "# --- Industry Note ---\n",
    "# Traders use GBM as a starting point. For smile/skew, they use stochastic volatility models like Heston.\n",
    "# We'll now implement a simplified Heston model for realism.\n",
    "\n",
    "# --- Optional: Generate Heston Paths ---\n",
    "# heston_paths = generate_heston_paths(S0, T, r, v0=0.04, kappa=1.5, theta=0.04, sigma_v=0.3, rho=-0.7, steps=n_steps, n_paths=n_paths)\n",
    "# heston_prices = heston_paths[-1]\n",
    "# heston_payoffs = european_call_payoff(heston_prices, K)\n",
    "# heston_mc_price = np.exp(-r * T) * np.mean(heston_payoffs)\n",
    "# print(f\"Monte Carlo Price (Heston): {heston_mc_price:.4f}\")\n",
    "\n",
    "# --- Next: Extend to other exotic options like Asian, Barrier, Digital ---\n"
   ]
  }
 ],
 "metadata": {
  "kernelspec": {
   "display_name": "finance",
   "language": "python",
   "name": "python3"
  },
  "language_info": {
   "codemirror_mode": {
    "name": "ipython",
    "version": 3
   },
   "file_extension": ".py",
   "mimetype": "text/x-python",
   "name": "python",
   "nbconvert_exporter": "python",
   "pygments_lexer": "ipython3",
   "version": "3.13.2"
  }
 },
 "nbformat": 4,
 "nbformat_minor": 5
}
